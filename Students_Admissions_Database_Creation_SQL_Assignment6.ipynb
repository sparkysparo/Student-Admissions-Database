{
  "nbformat": 4,
  "nbformat_minor": 0,
  "metadata": {
    "colab": {
      "provenance": []
    },
    "kernelspec": {
      "name": "python3",
      "display_name": "Python 3"
    },
    "language_info": {
      "name": "python"
    }
  },
  "cells": [
    {
      "cell_type": "code",
      "execution_count": 1,
      "metadata": {
        "colab": {
          "base_uri": "https://localhost:8080/"
        },
        "id": "fVH1kSSDx_6K",
        "outputId": "fe23c7d9-aad3-41ac-adf4-91f8e01dad9b"
      },
      "outputs": [
        {
          "output_type": "stream",
          "name": "stdout",
          "text": [
            " successfully Done: 'students.csv', 'courses.csv', 'enrollments.csv'\n"
          ]
        }
      ],
      "source": [
        "import pandas as pd\n",
        "import numpy as np\n",
        "import random\n",
        "\n",
        "# Setting the number of samples\n",
        "n_students = 2000\n",
        "n_courses = 20\n",
        "\n",
        "# Nominal data: Names\n",
        "# For the first names\n",
        "first_names = [\n",
        "    'John', 'Jane', 'Michael', 'Emily', 'Chris', 'Katie', 'David', 'Sarah',\n",
        "    'James', 'Jessica', 'Chijioke', 'Ngozi', 'Ifeoma', 'Emeka', 'Chinonso',\n",
        "    'Paschal', 'Tunde', 'Adeola', 'Kwame', 'Amina', 'Fatima', 'Laila', 'Sofia',\n",
        "    'Carlos', 'Ahmed', 'Priya', 'Chen', 'Liu', 'Omar', 'Maria', 'Ali', 'Fatoumata']\n",
        "\n",
        "# For the last names\n",
        "last_names = [\n",
        "    'Smith', 'Johnson', 'Williams', 'Brown', 'Jones', 'Garcia', 'Miller',\n",
        "    'Davis', 'Rodriguez', 'Martinez', 'Okafor', 'Nwosu', 'Adams', 'Okwuosa',\n",
        "    'Chukwu', 'Adetokunbo', 'Nguyen', 'Chen', 'Kim', 'Patel', 'Uzoegwu',\n",
        "    'Ali', 'Santos', 'Kumar', 'Osei', 'Cheng', 'Silva', 'Müller']\n",
        "\n",
        "name_data = [f'{random.choice(first_names)} {random.choice(last_names)}' for _ in range(n_students)]\n",
        "\n",
        "# Nominal data: Domicile and Region\n",
        "countries = ['UK', 'India', 'China', 'Nigeria', 'United States', 'Germany', 'Brazil', 'Japan', 'Canada', 'Australia']\n",
        "domicile_data = np.random.choice(countries, n_students)\n",
        "\n",
        "regions = {\n",
        "    'UK': ['London', 'Yorkshire', 'Edinburgh'],\n",
        "    'India': ['Delhi', 'Maharashtra', 'Tamil Nadu'],\n",
        "    'China': ['Beijing', 'Shanghai'],\n",
        "    'Nigeria': ['Lagos', 'Abuja'],\n",
        "    'United States': ['California', 'New York'],\n",
        "    'Germany': ['Berlin', 'Bavaria'],\n",
        "    'Brazil': ['São Paulo', 'Rio de Janeiro'],\n",
        "    'Japan': ['Tokyo', 'Osaka'],\n",
        "    'Canada': ['Ontario', 'Quebec'],\n",
        "    'Australia': ['New South Wales', 'Victoria']}\n",
        "\n",
        "region_data = [random.choice(regions.get(country, ['Unknown'])) for country in domicile_data]\n",
        "\n",
        "# Ordinal data: Courses\n",
        "courses = [\n",
        "    'Business Administration', 'Marketing', 'Finance', 'Economics',\n",
        "    'Electrical Engineering', 'Mechanical Engineering', 'Data Science',\n",
        "    'Artificial Intelligence', 'Cybersecurity', 'Computer Science',\n",
        "    'Public Health', 'Nursing', 'Psychology', 'Law', 'History', 'Sociology',\n",
        "    'Political Science', 'International Relations', 'Philosophy', 'Graphic Design']\n",
        "\n",
        "course_data = np.random.choice(courses, n_students)\n",
        "\n",
        "# Interval data: GPA and Age\n",
        "gpa_data = np.round(np.random.uniform(2.0, 4.0, n_students), 2)\n",
        "age_data = np.random.randint(22, 45, n_students)\n",
        "\n",
        "# Nominal data: Gender and Admission Status\n",
        "gender_data = np.random.choice(['Male', 'Female'], n_students)\n",
        "admission_status = np.random.choice(['Conditional', 'Unconditional'], n_students)\n",
        "\n",
        "# Ratio data: Admission (1 or 0)\n",
        "admitted_data = np.random.choice([1, 0], n_students, p=[0.75, 0.25])\n",
        "\n",
        "# Introduce missing values in GPA\n",
        "n_missing_gpa = 50\n",
        "missing_indices = np.random.choice(gpa_data.size, n_missing_gpa, replace=False)\n",
        "gpa_data[missing_indices] = np.nan\n",
        "\n",
        "# Create DataFrames\n",
        "students_df = pd.DataFrame({\n",
        "    'Student_ID': np.arange(1001, 1001 + n_students),\n",
        "    'Name': name_data,\n",
        "    'Domicile': domicile_data,\n",
        "    'Region': region_data,\n",
        "    'Gender': gender_data,\n",
        "    'Age': age_data,\n",
        "    'Admission_Status': admission_status})\n",
        "\n",
        "courses_df = pd.DataFrame({\n",
        "    'Course_ID': np.arange(1, n_courses + 1),\n",
        "    'Course_Name': courses[:n_courses],\n",
        "    'Course_Level': ['Undergraduate' if i % 2 == 0 else 'Postgraduate' for i in range(n_courses)]})\n",
        "\n",
        "enrollments_df = pd.DataFrame({\n",
        "    'Enrollment_ID': np.arange(1, n_students + 1),\n",
        "    'Student_ID': np.random.choice(students_df['Student_ID'], n_students),\n",
        "    'Course_ID': np.random.choice(courses_df['Course_ID'], n_students),\n",
        "    'GPA': gpa_data,\n",
        "    'Admitted': admitted_data})\n",
        "\n",
        "# Saving DataFrames to CSV\n",
        "students_df.to_csv('students.csv', index=False)\n",
        "courses_df.to_csv('courses.csv', index=False)\n",
        "enrollments_df.to_csv('enrollments.csv', index=False)\n",
        "\n",
        "print(\" successfully Done: 'students.csv', 'courses.csv', 'enrollments.csv'\")\n"
      ]
    }
  ]
}